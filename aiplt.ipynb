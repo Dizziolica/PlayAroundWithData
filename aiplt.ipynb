{
 "cells": [
  {
   "cell_type": "code",
   "execution_count": 191,
   "metadata": {},
   "outputs": [],
   "source": [
    "import numpy as np\n",
    "import pandas as pd\n",
    "import matplotlib.pyplot as plt"
   ]
  },
  {
   "cell_type": "code",
   "execution_count": 192,
   "metadata": {},
   "outputs": [],
   "source": [
    "df = pd.read_csv(\"air-pollution.csv\")"
   ]
  },
  {
   "cell_type": "code",
   "execution_count": 193,
   "metadata": {},
   "outputs": [
    {
     "data": {
      "text/html": [
       "<div>\n",
       "<style scoped>\n",
       "    .dataframe tbody tr th:only-of-type {\n",
       "        vertical-align: middle;\n",
       "    }\n",
       "\n",
       "    .dataframe tbody tr th {\n",
       "        vertical-align: top;\n",
       "    }\n",
       "\n",
       "    .dataframe thead th {\n",
       "        text-align: right;\n",
       "    }\n",
       "</style>\n",
       "<table border=\"1\" class=\"dataframe\">\n",
       "  <thead>\n",
       "    <tr style=\"text-align: right;\">\n",
       "      <th></th>\n",
       "      <th>Country</th>\n",
       "      <th>Year</th>\n",
       "      <th>Nitrogen Oxide</th>\n",
       "      <th>Sulphur Dioxide</th>\n",
       "      <th>Carbon Monoxide</th>\n",
       "      <th>Organic Carbon</th>\n",
       "      <th>NMVOCs</th>\n",
       "      <th>Black Carbon</th>\n",
       "      <th>Ammonia</th>\n",
       "    </tr>\n",
       "  </thead>\n",
       "  <tbody>\n",
       "    <tr>\n",
       "      <th>0</th>\n",
       "      <td>Afghanistan</td>\n",
       "      <td>1750</td>\n",
       "      <td>555.42</td>\n",
       "      <td>139.42</td>\n",
       "      <td>142073.31</td>\n",
       "      <td>5456.88</td>\n",
       "      <td>13311.29</td>\n",
       "      <td>1633.03</td>\n",
       "      <td>7628.36</td>\n",
       "    </tr>\n",
       "    <tr>\n",
       "      <th>1</th>\n",
       "      <td>Afghanistan</td>\n",
       "      <td>1760</td>\n",
       "      <td>578.45</td>\n",
       "      <td>145.09</td>\n",
       "      <td>147859.24</td>\n",
       "      <td>5679.12</td>\n",
       "      <td>13853.64</td>\n",
       "      <td>1699.54</td>\n",
       "      <td>7946.02</td>\n",
       "    </tr>\n",
       "    <tr>\n",
       "      <th>2</th>\n",
       "      <td>Afghanistan</td>\n",
       "      <td>1770</td>\n",
       "      <td>602.42</td>\n",
       "      <td>150.99</td>\n",
       "      <td>153867.41</td>\n",
       "      <td>5909.88</td>\n",
       "      <td>14416.85</td>\n",
       "      <td>1768.60</td>\n",
       "      <td>8276.90</td>\n",
       "    </tr>\n",
       "    <tr>\n",
       "      <th>3</th>\n",
       "      <td>Afghanistan</td>\n",
       "      <td>1780</td>\n",
       "      <td>627.37</td>\n",
       "      <td>157.11</td>\n",
       "      <td>160104.42</td>\n",
       "      <td>6149.44</td>\n",
       "      <td>15001.56</td>\n",
       "      <td>1840.29</td>\n",
       "      <td>8621.53</td>\n",
       "    </tr>\n",
       "    <tr>\n",
       "      <th>4</th>\n",
       "      <td>Afghanistan</td>\n",
       "      <td>1790</td>\n",
       "      <td>653.34</td>\n",
       "      <td>163.46</td>\n",
       "      <td>166576.77</td>\n",
       "      <td>6398.04</td>\n",
       "      <td>15608.38</td>\n",
       "      <td>1914.68</td>\n",
       "      <td>8980.49</td>\n",
       "    </tr>\n",
       "  </tbody>\n",
       "</table>\n",
       "</div>"
      ],
      "text/plain": [
       "       Country  Year  Nitrogen Oxide  Sulphur Dioxide  Carbon Monoxide  \\\n",
       "0  Afghanistan  1750          555.42           139.42        142073.31   \n",
       "1  Afghanistan  1760          578.45           145.09        147859.24   \n",
       "2  Afghanistan  1770          602.42           150.99        153867.41   \n",
       "3  Afghanistan  1780          627.37           157.11        160104.42   \n",
       "4  Afghanistan  1790          653.34           163.46        166576.77   \n",
       "\n",
       "   Organic Carbon    NMVOCs  Black Carbon  Ammonia  \n",
       "0         5456.88  13311.29       1633.03  7628.36  \n",
       "1         5679.12  13853.64       1699.54  7946.02  \n",
       "2         5909.88  14416.85       1768.60  8276.90  \n",
       "3         6149.44  15001.56       1840.29  8621.53  \n",
       "4         6398.04  15608.38       1914.68  8980.49  "
      ]
     },
     "execution_count": 193,
     "metadata": {},
     "output_type": "execute_result"
    }
   ],
   "source": [
    "df.head()"
   ]
  },
  {
   "cell_type": "code",
   "execution_count": 194,
   "metadata": {},
   "outputs": [
    {
     "data": {
      "text/html": [
       "<div>\n",
       "<style scoped>\n",
       "    .dataframe tbody tr th:only-of-type {\n",
       "        vertical-align: middle;\n",
       "    }\n",
       "\n",
       "    .dataframe tbody tr th {\n",
       "        vertical-align: top;\n",
       "    }\n",
       "\n",
       "    .dataframe thead th {\n",
       "        text-align: right;\n",
       "    }\n",
       "</style>\n",
       "<table border=\"1\" class=\"dataframe\">\n",
       "  <thead>\n",
       "    <tr style=\"text-align: right;\">\n",
       "      <th></th>\n",
       "      <th>Country</th>\n",
       "      <th>Carbon Monoxide</th>\n",
       "      <th>Year</th>\n",
       "    </tr>\n",
       "  </thead>\n",
       "  <tbody>\n",
       "    <tr>\n",
       "      <th>298</th>\n",
       "      <td>Africa</td>\n",
       "      <td>5189870.02</td>\n",
       "      <td>1868</td>\n",
       "    </tr>\n",
       "    <tr>\n",
       "      <th>299</th>\n",
       "      <td>Africa</td>\n",
       "      <td>5246753.52</td>\n",
       "      <td>1869</td>\n",
       "    </tr>\n",
       "    <tr>\n",
       "      <th>300</th>\n",
       "      <td>Africa</td>\n",
       "      <td>5308643.37</td>\n",
       "      <td>1870</td>\n",
       "    </tr>\n",
       "    <tr>\n",
       "      <th>301</th>\n",
       "      <td>Africa</td>\n",
       "      <td>5427179.15</td>\n",
       "      <td>1871</td>\n",
       "    </tr>\n",
       "    <tr>\n",
       "      <th>302</th>\n",
       "      <td>Africa</td>\n",
       "      <td>5458618.35</td>\n",
       "      <td>1872</td>\n",
       "    </tr>\n",
       "  </tbody>\n",
       "</table>\n",
       "</div>"
      ],
      "text/plain": [
       "    Country  Carbon Monoxide  Year\n",
       "298  Africa       5189870.02  1868\n",
       "299  Africa       5246753.52  1869\n",
       "300  Africa       5308643.37  1870\n",
       "301  Africa       5427179.15  1871\n",
       "302  Africa       5458618.35  1872"
      ]
     },
     "execution_count": 194,
     "metadata": {},
     "output_type": "execute_result"
    }
   ],
   "source": [
    "country = df[[\"Country\",\"Carbon Monoxide\" , \"Year\"]]\n",
    "\n",
    "mean = country[country[\"Carbon Monoxide\"] > 5173732]\n",
    "mean.head()"
   ]
  },
  {
   "cell_type": "code",
   "execution_count": 195,
   "metadata": {},
   "outputs": [
    {
     "data": {
      "text/plain": [
       "Country               Zimbabwe\n",
       "Carbon Monoxide    661623618.5\n",
       "Year                      2019\n",
       "dtype: object"
      ]
     },
     "execution_count": 195,
     "metadata": {},
     "output_type": "execute_result"
    }
   ],
   "source": [
    "max = country.max()\n",
    "max.head()\n"
   ]
  },
  {
   "cell_type": "code",
   "execution_count": 196,
   "metadata": {},
   "outputs": [
    {
     "data": {
      "text/html": [
       "<div>\n",
       "<style scoped>\n",
       "    .dataframe tbody tr th:only-of-type {\n",
       "        vertical-align: middle;\n",
       "    }\n",
       "\n",
       "    .dataframe tbody tr th {\n",
       "        vertical-align: top;\n",
       "    }\n",
       "\n",
       "    .dataframe thead th {\n",
       "        text-align: right;\n",
       "    }\n",
       "</style>\n",
       "<table border=\"1\" class=\"dataframe\">\n",
       "  <thead>\n",
       "    <tr style=\"text-align: right;\">\n",
       "      <th></th>\n",
       "      <th>Country</th>\n",
       "      <th>Year</th>\n",
       "      <th>Nitrogen Oxide</th>\n",
       "      <th>Sulphur Dioxide</th>\n",
       "      <th>Carbon Monoxide</th>\n",
       "      <th>Organic Carbon</th>\n",
       "      <th>NMVOCs</th>\n",
       "      <th>Black Carbon</th>\n",
       "      <th>Ammonia</th>\n",
       "    </tr>\n",
       "  </thead>\n",
       "  <tbody>\n",
       "    <tr>\n",
       "      <th>47310</th>\n",
       "      <td>Zimbabwe</td>\n",
       "      <td>1750</td>\n",
       "      <td>33.31</td>\n",
       "      <td>7.54</td>\n",
       "      <td>3501.33</td>\n",
       "      <td>180.00</td>\n",
       "      <td>421.68</td>\n",
       "      <td>48.21</td>\n",
       "      <td>486.18</td>\n",
       "    </tr>\n",
       "    <tr>\n",
       "      <th>47311</th>\n",
       "      <td>Zimbabwe</td>\n",
       "      <td>1760</td>\n",
       "      <td>39.27</td>\n",
       "      <td>8.88</td>\n",
       "      <td>4122.46</td>\n",
       "      <td>211.94</td>\n",
       "      <td>496.53</td>\n",
       "      <td>56.76</td>\n",
       "      <td>573.25</td>\n",
       "    </tr>\n",
       "    <tr>\n",
       "      <th>47312</th>\n",
       "      <td>Zimbabwe</td>\n",
       "      <td>1770</td>\n",
       "      <td>46.32</td>\n",
       "      <td>10.45</td>\n",
       "      <td>4853.90</td>\n",
       "      <td>249.54</td>\n",
       "      <td>584.69</td>\n",
       "      <td>66.83</td>\n",
       "      <td>676.02</td>\n",
       "    </tr>\n",
       "    <tr>\n",
       "      <th>47313</th>\n",
       "      <td>Zimbabwe</td>\n",
       "      <td>1780</td>\n",
       "      <td>54.63</td>\n",
       "      <td>12.30</td>\n",
       "      <td>5715.17</td>\n",
       "      <td>293.82</td>\n",
       "      <td>688.51</td>\n",
       "      <td>78.69</td>\n",
       "      <td>797.34</td>\n",
       "    </tr>\n",
       "    <tr>\n",
       "      <th>47314</th>\n",
       "      <td>Zimbabwe</td>\n",
       "      <td>1790</td>\n",
       "      <td>64.45</td>\n",
       "      <td>14.49</td>\n",
       "      <td>6729.23</td>\n",
       "      <td>345.95</td>\n",
       "      <td>810.77</td>\n",
       "      <td>92.65</td>\n",
       "      <td>940.59</td>\n",
       "    </tr>\n",
       "  </tbody>\n",
       "</table>\n",
       "</div>"
      ],
      "text/plain": [
       "        Country  Year  Nitrogen Oxide  Sulphur Dioxide  Carbon Monoxide  \\\n",
       "47310  Zimbabwe  1750           33.31             7.54          3501.33   \n",
       "47311  Zimbabwe  1760           39.27             8.88          4122.46   \n",
       "47312  Zimbabwe  1770           46.32            10.45          4853.90   \n",
       "47313  Zimbabwe  1780           54.63            12.30          5715.17   \n",
       "47314  Zimbabwe  1790           64.45            14.49          6729.23   \n",
       "\n",
       "       Organic Carbon  NMVOCs  Black Carbon  Ammonia  \n",
       "47310          180.00  421.68         48.21   486.18  \n",
       "47311          211.94  496.53         56.76   573.25  \n",
       "47312          249.54  584.69         66.83   676.02  \n",
       "47313          293.82  688.51         78.69   797.34  \n",
       "47314          345.95  810.77         92.65   940.59  "
      ]
     },
     "execution_count": 196,
     "metadata": {},
     "output_type": "execute_result"
    }
   ],
   "source": [
    "zim = df[df[\"Country\"] == \"Zimbabwe\"]\n",
    "\n",
    "zim.head()\n"
   ]
  },
  {
   "cell_type": "code",
   "execution_count": 197,
   "metadata": {},
   "outputs": [
    {
     "data": {
      "text/html": [
       "<div>\n",
       "<style scoped>\n",
       "    .dataframe tbody tr th:only-of-type {\n",
       "        vertical-align: middle;\n",
       "    }\n",
       "\n",
       "    .dataframe tbody tr th {\n",
       "        vertical-align: top;\n",
       "    }\n",
       "\n",
       "    .dataframe thead th {\n",
       "        text-align: right;\n",
       "    }\n",
       "</style>\n",
       "<table border=\"1\" class=\"dataframe\">\n",
       "  <thead>\n",
       "    <tr style=\"text-align: right;\">\n",
       "      <th></th>\n",
       "      <th>Country</th>\n",
       "      <th>Year</th>\n",
       "      <th>Nitrogen Oxide</th>\n",
       "      <th>Sulphur Dioxide</th>\n",
       "      <th>Carbon Monoxide</th>\n",
       "      <th>Organic Carbon</th>\n",
       "      <th>NMVOCs</th>\n",
       "      <th>Black Carbon</th>\n",
       "      <th>Ammonia</th>\n",
       "    </tr>\n",
       "  </thead>\n",
       "  <tbody>\n",
       "    <tr>\n",
       "      <th>47526</th>\n",
       "      <td>Zimbabwe</td>\n",
       "      <td>2011</td>\n",
       "      <td>81592.23</td>\n",
       "      <td>70872.93</td>\n",
       "      <td>1467395.02</td>\n",
       "      <td>101297.21</td>\n",
       "      <td>272999.86</td>\n",
       "      <td>29249.56</td>\n",
       "      <td>115929.98</td>\n",
       "    </tr>\n",
       "    <tr>\n",
       "      <th>47527</th>\n",
       "      <td>Zimbabwe</td>\n",
       "      <td>2012</td>\n",
       "      <td>86615.04</td>\n",
       "      <td>65949.37</td>\n",
       "      <td>1521450.29</td>\n",
       "      <td>102776.91</td>\n",
       "      <td>283139.41</td>\n",
       "      <td>29910.54</td>\n",
       "      <td>117893.34</td>\n",
       "    </tr>\n",
       "    <tr>\n",
       "      <th>47528</th>\n",
       "      <td>Zimbabwe</td>\n",
       "      <td>2013</td>\n",
       "      <td>87294.63</td>\n",
       "      <td>68503.57</td>\n",
       "      <td>1554803.16</td>\n",
       "      <td>104186.67</td>\n",
       "      <td>289183.43</td>\n",
       "      <td>30179.58</td>\n",
       "      <td>119216.66</td>\n",
       "    </tr>\n",
       "    <tr>\n",
       "      <th>47529</th>\n",
       "      <td>Zimbabwe</td>\n",
       "      <td>2014</td>\n",
       "      <td>84044.31</td>\n",
       "      <td>69261.00</td>\n",
       "      <td>1562766.14</td>\n",
       "      <td>106158.89</td>\n",
       "      <td>290936.52</td>\n",
       "      <td>30554.26</td>\n",
       "      <td>110911.29</td>\n",
       "    </tr>\n",
       "    <tr>\n",
       "      <th>47530</th>\n",
       "      <td>Zimbabwe</td>\n",
       "      <td>2015</td>\n",
       "      <td>83842.10</td>\n",
       "      <td>67231.29</td>\n",
       "      <td>1610636.44</td>\n",
       "      <td>108275.48</td>\n",
       "      <td>299713.47</td>\n",
       "      <td>30912.24</td>\n",
       "      <td>112425.84</td>\n",
       "    </tr>\n",
       "  </tbody>\n",
       "</table>\n",
       "</div>"
      ],
      "text/plain": [
       "        Country  Year  Nitrogen Oxide  Sulphur Dioxide  Carbon Monoxide  \\\n",
       "47526  Zimbabwe  2011        81592.23         70872.93       1467395.02   \n",
       "47527  Zimbabwe  2012        86615.04         65949.37       1521450.29   \n",
       "47528  Zimbabwe  2013        87294.63         68503.57       1554803.16   \n",
       "47529  Zimbabwe  2014        84044.31         69261.00       1562766.14   \n",
       "47530  Zimbabwe  2015        83842.10         67231.29       1610636.44   \n",
       "\n",
       "       Organic Carbon     NMVOCs  Black Carbon    Ammonia  \n",
       "47526       101297.21  272999.86      29249.56  115929.98  \n",
       "47527       102776.91  283139.41      29910.54  117893.34  \n",
       "47528       104186.67  289183.43      30179.58  119216.66  \n",
       "47529       106158.89  290936.52      30554.26  110911.29  \n",
       "47530       108275.48  299713.47      30912.24  112425.84  "
      ]
     },
     "execution_count": 197,
     "metadata": {},
     "output_type": "execute_result"
    }
   ],
   "source": [
    "year2 = zim[zim[\"Year\"] > 2010]\n",
    "year2.head()"
   ]
  },
  {
   "cell_type": "code",
   "execution_count": 198,
   "metadata": {},
   "outputs": [],
   "source": [
    "list = zim['Carbon Monoxide'].head(10).tolist()"
   ]
  },
  {
   "cell_type": "code",
   "execution_count": 199,
   "metadata": {},
   "outputs": [
    {
     "name": "stdout",
     "output_type": "stream",
     "text": [
      "[3501.33, 4122.46, 4853.9, 5715.17, 6729.23, 7923.02, 8063.88, 8204.66, 8345.36, 8485.99]\n"
     ]
    }
   ],
   "source": [
    "print(list)"
   ]
  },
  {
   "cell_type": "code",
   "execution_count": 200,
   "metadata": {},
   "outputs": [],
   "source": [
    "list2 = zim['Year'].head(10).tolist()"
   ]
  },
  {
   "cell_type": "code",
   "execution_count": 201,
   "metadata": {},
   "outputs": [
    {
     "name": "stdout",
     "output_type": "stream",
     "text": [
      "[1750, 1760, 1770, 1780, 1790, 1800, 1801, 1802, 1803, 1804]\n"
     ]
    }
   ],
   "source": [
    "print(list2)"
   ]
  },
  {
   "cell_type": "code",
   "execution_count": 202,
   "metadata": {},
   "outputs": [
    {
     "data": {
      "text/plain": [
       "[<matplotlib.lines.Line2D at 0x7f71bba3d8d0>]"
      ]
     },
     "execution_count": 202,
     "metadata": {},
     "output_type": "execute_result"
    },
    {
     "data": {
      "image/png": "[encoded data removed]",
      "text/plain": [
       "<Figure size 640x480 with 1 Axes>"
      ]
     },
     "metadata": {},
     "output_type": "display_data"
    }
   ],
   "source": [
    "plt.plot(list2, list, ':')"
   ]
  },
  {
   "cell_type": "code",
   "execution_count": 203,
   "metadata": {},
   "outputs": [],
   "source": [
    "plt.show()"
   ]
  }
 ],
 "metadata": {
  "kernelspec": {
   "display_name": "Python 3",
   "language": "python",
   "name": "python3"
  },
  "language_info": {
   "codemirror_mode": {
    "name": "ipython",
    "version": 3
   },
   "file_extension": ".py",
   "mimetype": "text/x-python",
   "name": "python",
   "nbconvert_exporter": "python",
   "pygments_lexer": "ipython3",
   "version": "3.10.6"
  },
  "orig_nbformat": 4,
  "vscode": {
   "interpreter": {
    "hash": "916dbcbb3f70747c44a77c7bcd40155683ae19c65e1c03b4aa3499c5328201f1"
   }
  }
 },
 "nbformat": 4,
 "nbformat_minor": 2
}
